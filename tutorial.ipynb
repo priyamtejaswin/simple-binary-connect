{
 "cells": [
  {
   "cell_type": "markdown",
   "metadata": {},
   "source": [
    "# Simple Binary Connect\n",
    "A bare-bones instructional implementation of BinaryConnect. The rest of the post is organised as follows:\n",
    "\n",
    "1. Introduction\n",
    "2. Objective\n",
    "3. Some Theory\n",
    "4. Forward Pass\n",
    "5. Backward Pass\n",
    "6. Testing\n",
    "7. Adding Binarization\n",
    "8. Testing\n",
    "9. Discussion\n",
    "\n",
    "## 0. Introduction\n",
    "A conversation at work spawned a discussion about the difficulties of successfully deploying Deep Neural Networks on embedded and mobile devices. A [very]rough review reveals three broad approaches:\n",
    "- Training shallower/smaller architectures to reduce parameters.\n",
    "- Pruning redundant network connections.\n",
    "- Quantization of weights while preserving accuracy.\n",
    "\n",
    "The focus of this tutorial is the BinaryConnect paper, which falls in the third category. The paper proposes a training procedure to learn binarized weights (+1, -1) as opposed to full precision weights (32bits or 64bits) with minimal loss in precision.\n",
    "\n",
    "## 1. Objective\n",
    "We will not be replicating the results of the paper. Rather, this will serve as a proof-of-concept for the ...umm, concept. These are the concession that we will be making in the interest of time.\n",
    "- Working with MNIST and only MNIST.\n",
    "- Training a VERY simple model (logistic regression).\n",
    "- Using slow and un-optimised Python.\n",
    "\n",
    "The last point it actually more important that you might think. The true potential of such approaches is unlocked while using specialised hardware and software which actually exploits the single bit weights. But you won't get to see that with Python because I will still use 32 bit integers to represent +1 and -1. So there!\n",
    "\n",
    "## 2. Some Theory\n",
    "For those unfamiliar with back-propagation, there's a excellent post on the topic by [Michael Nielsen](http://neuralnetworksanddeeplearning.com/chap2.html). Here's a <INSERT_FAVORITE_BIG_NUMBER> foot overview using logistic regression model.\n",
    "\n",
    "### 2.1. Model for multi-class logistic regression.\n",
    "I define a multi-class classification problems as follows:\n",
    "$$\n",
    "\\begin{align}\n",
    "X & \\sim input\\ matrix[batch, features] \\\\\n",
    "W & \\sim weight\\ matrix[features, classes] \\\\\n",
    "\\textbf{b} & \\sim bias\\ vector[1, classes]\n",
    "\\end{align}\n",
    "$$\n",
    "\n",
    "The logistic model $f$ is defined as\n",
    "$$\n",
    "f(X, W, \\textbf{b}) = softmax(X.W + \\textbf{b})\n",
    "$$\n",
    "where\n",
    "$$\n",
    "softmax(v_{ij}) = \\frac{e^{v_{ij}}}{\\sum_k e^{v_{ik}}}\n",
    "$$\n",
    "\n",
    "$f$ returns the model output, which in this case will be a probability distribution for every sample against every possible class. We can calculate the error from the correct class label using any number of loss/distance measures. In the spirit of needlessly complicating things, let's continue with [cross-entropy](https://en.wikipedia.org/wiki/Cross_entropy). Amongst other things, a cross-entropy as an error measure is helpful as it allows weight updates even when the activations are close to saturation, i.e. when the error gradient is very close to 0.\n",
    "\n",
    "We define cross entropy loss $XE$ for a target distribution $\\textbf{t}$ and predicted distribution $\\textbf{p}$ as  follows\n",
    "$$\n",
    "XE(\\textbf{t}, \\textbf{p}) = - \\sum_i t_i log(p_i)\n",
    "$$"
   ]
  },
  {
   "cell_type": "code",
   "execution_count": null,
   "metadata": {
    "collapsed": true
   },
   "outputs": [],
   "source": []
  }
 ],
 "metadata": {
  "kernelspec": {
   "display_name": "Python 2",
   "language": "python",
   "name": "python2"
  },
  "language_info": {
   "codemirror_mode": {
    "name": "ipython",
    "version": 2
   },
   "file_extension": ".py",
   "mimetype": "text/x-python",
   "name": "python",
   "nbconvert_exporter": "python",
   "pygments_lexer": "ipython2",
   "version": "2.7.14"
  }
 },
 "nbformat": 4,
 "nbformat_minor": 2
}
