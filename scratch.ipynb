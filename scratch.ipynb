{
 "cells": [
  {
   "cell_type": "code",
   "execution_count": 1,
   "metadata": {
    "collapsed": true
   },
   "outputs": [],
   "source": [
    "import numpy as np"
   ]
  },
  {
   "cell_type": "code",
   "execution_count": 7,
   "metadata": {},
   "outputs": [],
   "source": [
    "x = np.random.rand(5, 4)\n",
    "w = np.random.randn(4, 3)\n",
    "b = np.ones((1, 3))\n",
    "\n",
    "t = np.zeros((5, 3))\n",
    "t[0, 0] = 1\n",
    "t[1, 0] = 1\n",
    "t[2, 1] = 1\n",
    "t[3, 1] = 1\n",
    "t[4, 2] = 1"
   ]
  },
  {
   "cell_type": "code",
   "execution_count": 18,
   "metadata": {},
   "outputs": [
    {
     "data": {
      "text/plain": [
       "array([[ 0.29908336,  0.37945704,  0.89472331,  0.38217345],\n",
       "       [ 0.72328712,  0.32062353,  0.62833114,  0.18837291],\n",
       "       [ 0.0037448 ,  0.98486005,  0.34261161,  0.63043254],\n",
       "       [ 0.92314189,  0.84778626,  0.72960204,  0.05609937],\n",
       "       [ 0.86783344,  0.70021305,  0.22975044,  0.52032335]])"
      ]
     },
     "execution_count": 18,
     "metadata": {},
     "output_type": "execute_result"
    }
   ],
   "source": [
    "x"
   ]
  },
  {
   "cell_type": "code",
   "execution_count": 19,
   "metadata": {},
   "outputs": [
    {
     "data": {
      "text/plain": [
       "array([[ 1.50440028,  0.0848374 , -0.39141005],\n",
       "       [ 1.15324131, -0.25311484, -0.37600665],\n",
       "       [-0.0050619 , -0.97666011, -1.12697903],\n",
       "       [ 0.06843028, -0.56640848,  0.85325895]])"
      ]
     },
     "execution_count": 19,
     "metadata": {},
     "output_type": "execute_result"
    }
   ],
   "source": [
    "w"
   ]
  },
  {
   "cell_type": "code",
   "execution_count": 8,
   "metadata": {
    "collapsed": true
   },
   "outputs": [],
   "source": [
    "def logistic_model(inputs, weights, bias):\n",
    "    z = np.dot(x, w) + b\n",
    "    _e = np.exp(z)\n",
    "    logits = np.divide(_e, np.sum(_e, axis=1, keepdims=True))\n",
    "    return logits"
   ]
  },
  {
   "cell_type": "code",
   "execution_count": 9,
   "metadata": {
    "collapsed": true
   },
   "outputs": [],
   "source": [
    "def ce_loss(output, target):\n",
    "    return -1.0 * np.mean( np.sum(np.multiply(target, np.log(output)), axis=1) )"
   ]
  },
  {
   "cell_type": "code",
   "execution_count": 10,
   "metadata": {
    "collapsed": true
   },
   "outputs": [],
   "source": [
    "output = logistic_model(x, w, b)"
   ]
  },
  {
   "cell_type": "code",
   "execution_count": 11,
   "metadata": {},
   "outputs": [
    {
     "data": {
      "text/plain": [
       "1.7736380215689749"
      ]
     },
     "execution_count": 11,
     "metadata": {},
     "output_type": "execute_result"
    }
   ],
   "source": [
    "ce_loss(output, t)"
   ]
  },
  {
   "cell_type": "code",
   "execution_count": 16,
   "metadata": {},
   "outputs": [
    {
     "data": {
      "text/plain": [
       "array([[-0.24937468, -0.        , -0.        ],\n",
       "       [-0.18148256, -0.        , -0.        ],\n",
       "       [-0.        , -2.43502123, -0.        ],\n",
       "       [-0.        , -3.30625066, -0.        ],\n",
       "       [-0.        , -0.        , -2.69606098]])"
      ]
     },
     "execution_count": 16,
     "metadata": {},
     "output_type": "execute_result"
    }
   ],
   "source": [
    "np.multiply(t, np.log(output))"
   ]
  },
  {
   "cell_type": "code",
   "execution_count": 15,
   "metadata": {},
   "outputs": [
    {
     "data": {
      "text/plain": [
       "array([[-0.24937468],\n",
       "       [-0.18148256],\n",
       "       [-2.43502123],\n",
       "       [-3.30625066],\n",
       "       [-2.69606098]])"
      ]
     },
     "execution_count": 15,
     "metadata": {},
     "output_type": "execute_result"
    }
   ],
   "source": [
    "np.sum( np.multiply(t, np.log(output)), axis=1 , keepdims=True)"
   ]
  },
  {
   "cell_type": "code",
   "execution_count": 17,
   "metadata": {},
   "outputs": [
    {
     "data": {
      "text/plain": [
       "1.7736380215689749"
      ]
     },
     "execution_count": 17,
     "metadata": {},
     "output_type": "execute_result"
    }
   ],
   "source": [
    "-np.mean(np.sum( np.multiply(t, np.log(output)), axis=1 , keepdims=True))"
   ]
  },
  {
   "cell_type": "code",
   "execution_count": null,
   "metadata": {
    "collapsed": true
   },
   "outputs": [],
   "source": []
  }
 ],
 "metadata": {
  "kernelspec": {
   "display_name": "Python 2",
   "language": "python",
   "name": "python2"
  },
  "language_info": {
   "codemirror_mode": {
    "name": "ipython",
    "version": 2
   },
   "file_extension": ".py",
   "mimetype": "text/x-python",
   "name": "python",
   "nbconvert_exporter": "python",
   "pygments_lexer": "ipython2",
   "version": "2.7.14"
  }
 },
 "nbformat": 4,
 "nbformat_minor": 2
}
