{
 "cells": [
  {
   "cell_type": "code",
   "execution_count": 1,
   "metadata": {
    "collapsed": true
   },
   "outputs": [],
   "source": [
    "import numpy as np\n",
    "np.random.seed(1234)"
   ]
  },
  {
   "cell_type": "code",
   "execution_count": null,
   "metadata": {},
   "outputs": [],
   "source": []
  },
  {
   "cell_type": "code",
   "execution_count": 2,
   "metadata": {},
   "outputs": [
    {
     "ename": "NameError",
     "evalue": "name 'x' is not defined",
     "output_type": "error",
     "traceback": [
      "\u001b[0;31m---------------------------------------------------------------------------\u001b[0m",
      "\u001b[0;31mNameError\u001b[0m                                 Traceback (most recent call last)",
      "\u001b[0;32m<ipython-input-2-401b30e3b8b5>\u001b[0m in \u001b[0;36m<module>\u001b[0;34m()\u001b[0m\n\u001b[0;32m----> 1\u001b[0;31m \u001b[0mx\u001b[0m\u001b[0;34m\u001b[0m\u001b[0m\n\u001b[0m",
      "\u001b[0;31mNameError\u001b[0m: name 'x' is not defined"
     ]
    }
   ],
   "source": [
    "x"
   ]
  },
  {
   "cell_type": "code",
   "execution_count": 3,
   "metadata": {},
   "outputs": [
    {
     "ename": "NameError",
     "evalue": "name 'w' is not defined",
     "output_type": "error",
     "traceback": [
      "\u001b[0;31m---------------------------------------------------------------------------\u001b[0m",
      "\u001b[0;31mNameError\u001b[0m                                 Traceback (most recent call last)",
      "\u001b[0;32m<ipython-input-3-b938b801a0bf>\u001b[0m in \u001b[0;36m<module>\u001b[0;34m()\u001b[0m\n\u001b[0;32m----> 1\u001b[0;31m \u001b[0mw\u001b[0m\u001b[0;34m\u001b[0m\u001b[0m\n\u001b[0m",
      "\u001b[0;31mNameError\u001b[0m: name 'w' is not defined"
     ]
    }
   ],
   "source": [
    "w"
   ]
  },
  {
   "cell_type": "code",
   "execution_count": 4,
   "metadata": {
    "collapsed": true
   },
   "outputs": [],
   "source": [
    "def logistic_model(inputs, weights, bias):\n",
    "    z = np.dot(inputs, weights) + bias\n",
    "    z = z - np.max(z, axis=1, keepdims=True) ## Safe softmax!\n",
    "    _e = np.exp(z)\n",
    "    logits = np.divide(_e, np.sum(_e, axis=1, keepdims=True))\n",
    "    return logits"
   ]
  },
  {
   "cell_type": "code",
   "execution_count": 5,
   "metadata": {
    "collapsed": true
   },
   "outputs": [],
   "source": [
    "def ce_loss(output, target):\n",
    "    return -1.0 * np.mean( np.sum(np.multiply(target, np.log(output)), axis=1) )"
   ]
  },
  {
   "cell_type": "code",
   "execution_count": 6,
   "metadata": {
    "collapsed": true
   },
   "outputs": [],
   "source": [
    "x = np.random.rand(5, 4)\n",
    "w = np.random.randn(4, 3)\n",
    "b = np.ones((1, 3))\n",
    "\n",
    "t = np.zeros((5, 3))\n",
    "t[0, 0] = 1\n",
    "t[1, 0] = 1\n",
    "t[2, 1] = 1\n",
    "t[3, 1] = 1\n",
    "t[4, 2] = 1"
   ]
  },
  {
   "cell_type": "code",
   "execution_count": 7,
   "metadata": {
    "collapsed": true
   },
   "outputs": [],
   "source": [
    "output = logistic_model(x+1, w, b)"
   ]
  },
  {
   "cell_type": "code",
   "execution_count": 8,
   "metadata": {},
   "outputs": [
    {
     "data": {
      "text/plain": [
       "4.173286345846108"
      ]
     },
     "execution_count": 8,
     "metadata": {},
     "output_type": "execute_result"
    }
   ],
   "source": [
    "ce_loss(output, t)"
   ]
  },
  {
   "cell_type": "markdown",
   "metadata": {},
   "source": [
    "---"
   ]
  },
  {
   "cell_type": "code",
   "execution_count": 9,
   "metadata": {
    "collapsed": true
   },
   "outputs": [],
   "source": [
    "def gradients(logits, target, inputs):\n",
    "    assert logits.shape == target.shape\n",
    "    assert inputs.shape[0] == logits.shape[0]\n",
    "    \n",
    "    grad_z =  (logits - target) / (1.0 * target.shape[0])\n",
    "    grad_w = np.dot(inputs.T, grad_z)\n",
    "    grad_b = np.sum(grad_z, axis=0, keepdims=True)\n",
    "    \n",
    "    return grad_w, grad_b"
   ]
  },
  {
   "cell_type": "code",
   "execution_count": 52,
   "metadata": {},
   "outputs": [],
   "source": [
    "eg_w, eg_b = gradients(logistic_model(x, w, b), t, x)\n",
    "assert eg_w.shape == w.shape\n",
    "assert eg_b.shape == b.shape"
   ]
  },
  {
   "cell_type": "code",
   "execution_count": 53,
   "metadata": {
    "collapsed": true
   },
   "outputs": [],
   "source": [
    "def update_params((w, b), (eg_w, eg_b), alpha = 0.5):\n",
    "    assert w.shape == eg_w.shape\n",
    "    assert b.shape == eg_b.shape\n",
    "    \n",
    "    return (w - alpha*eg_w, b - alpha*eg_b)"
   ]
  },
  {
   "cell_type": "markdown",
   "metadata": {},
   "source": [
    "## Data"
   ]
  },
  {
   "cell_type": "code",
   "execution_count": 12,
   "metadata": {},
   "outputs": [
    {
     "name": "stderr",
     "output_type": "stream",
     "text": [
      "/Users/tejaswin.p/anaconda2/lib/python2.7/site-packages/h5py/__init__.py:34: FutureWarning: Conversion of the second argument of issubdtype from `float` to `np.floating` is deprecated. In future, it will be treated as `np.float64 == np.dtype(float).type`.\n",
      "  from ._conv import register_converters as _register_converters\n"
     ]
    },
    {
     "name": "stdout",
     "output_type": "stream",
     "text": [
      "Extracting MNIST_data/train-images-idx3-ubyte.gz\n",
      "Extracting MNIST_data/train-labels-idx1-ubyte.gz\n",
      "Extracting MNIST_data/t10k-images-idx3-ubyte.gz\n",
      "Extracting MNIST_data/t10k-labels-idx1-ubyte.gz\n",
      "train examples 55000\n",
      "test examples 10000\n"
     ]
    }
   ],
   "source": [
    "## Data loader.\n",
    "from tensorflow.examples.tutorials.mnist import input_data\n",
    "mnist = input_data.read_data_sets('MNIST_data', one_hot=True)\n",
    "print \"train examples\", mnist.train.num_examples\n",
    "print \"test examples\", mnist.test.num_examples"
   ]
  },
  {
   "cell_type": "code",
   "execution_count": 54,
   "metadata": {},
   "outputs": [],
   "source": [
    "## Hyper-parameters.\n",
    "batch_size = 128\n",
    "nfeats = 784\n",
    "nclasses = 10\n",
    "alpha = 0.5\n",
    "\n",
    "w = np.random.rand(nfeats, nclasses)\n",
    "b = np.ones((1, nclasses))"
   ]
  },
  {
   "cell_type": "code",
   "execution_count": 55,
   "metadata": {},
   "outputs": [
    {
     "data": {
      "text/plain": [
       "(55000, 784)"
      ]
     },
     "execution_count": 55,
     "metadata": {},
     "output_type": "execute_result"
    }
   ],
   "source": [
    "mnist.train.images.shape"
   ]
  },
  {
   "cell_type": "code",
   "execution_count": 56,
   "metadata": {},
   "outputs": [
    {
     "name": "stdout",
     "output_type": "stream",
     "text": [
      "Index, TestLoss, TestAcc\n",
      "\n",
      "20 0.8676575412261578 0.7263\n",
      "40 0.6883210182447401 0.782\n",
      "60 0.5736027161245246 0.8225\n",
      "80 0.5396352407717 0.834\n",
      "100 0.5126702605857998 0.8437\n",
      "120 0.4995277509605476 0.8484\n",
      "140 0.4894401207409667 0.85\n",
      "160 0.4822880963840118 0.853\n",
      "180 0.47619868951752825 0.8547\n",
      "200 0.4703943518212104 0.8569\n",
      "220 0.46692700132385645 0.8577\n",
      "240 0.4656269444902915 0.8592\n",
      "260 0.4653851764110128 0.8586\n",
      "280 0.4620481095224446 0.8593\n",
      "300 0.46101464411040977 0.8595\n",
      "320 0.4596697332494375 0.8605\n",
      "340 0.4586724748999032 0.8615\n",
      "360 0.4579304321476966 0.8617\n",
      "380 0.45702922222001807 0.8626\n",
      "400 0.45666732047291436 0.8628\n",
      "420 0.45639255729532135 0.8626\n",
      "440 0.4561059196307431 0.863\n",
      "460 0.45594423671680295 0.8631\n",
      "480 0.45580723352517744 0.863\n",
      "500 0.4556427637938159 0.863\n"
     ]
    }
   ],
   "source": [
    "print \"Index, TestLoss, TestAcc\\n\"\n",
    "for ix in range(500):\n",
    "    x, t = mnist.train.next_batch(batch_size=batch_size)\n",
    "    logits = logistic_model(x, w, b)\n",
    "    loss = ce_loss(logits, t)\n",
    "    \n",
    "    grads = gradients(logits, t, x)\n",
    "    w, b = update_params((w, b), grads, alpha)\n",
    "    \n",
    "    if (ix+1)%20 == 0:\n",
    "        test_logits = logistic_model(mnist.test.images, w, b)\n",
    "        test_acc = np.mean(np.argmax(test_logits, axis=1) == np.argmax(mnist.test.labels, axis=1))\n",
    "        \n",
    "        print ix+1, ce_loss(test_logits, mnist.test.labels), test_acc\n",
    "        alpha = alpha * 0.8 ## Decay."
   ]
  },
  {
   "cell_type": "code",
   "execution_count": 16,
   "metadata": {},
   "outputs": [
    {
     "data": {
      "text/plain": [
       "(10000, 10)"
      ]
     },
     "execution_count": 16,
     "metadata": {},
     "output_type": "execute_result"
    }
   ],
   "source": [
    "\n",
    "test_logits.shape"
   ]
  },
  {
   "cell_type": "code",
   "execution_count": 23,
   "metadata": {},
   "outputs": [
    {
     "data": {
      "text/plain": [
       "0.8941"
      ]
     },
     "execution_count": 23,
     "metadata": {},
     "output_type": "execute_result"
    }
   ],
   "source": [
    "np.mean(np.argmax(test_logits, axis=1) == np.argmax(mnist.test.labels, axis=1))"
   ]
  },
  {
   "cell_type": "code",
   "execution_count": 22,
   "metadata": {},
   "outputs": [
    {
     "data": {
      "text/plain": [
       "(10000,)"
      ]
     },
     "execution_count": 22,
     "metadata": {},
     "output_type": "execute_result"
    }
   ],
   "source": [
    "np.argmax(mnist.test.labels, axis=1).shape"
   ]
  },
  {
   "cell_type": "markdown",
   "metadata": {},
   "source": [
    "## Binarization"
   ]
  },
  {
   "cell_type": "code",
   "execution_count": 61,
   "metadata": {
    "collapsed": true
   },
   "outputs": [],
   "source": [
    "def binarize(m):\n",
    "    bm = np.ones_like(m)\n",
    "    bm[m<0] = -1\n",
    "    return bm"
   ]
  },
  {
   "cell_type": "code",
   "execution_count": 67,
   "metadata": {},
   "outputs": [
    {
     "name": "stdout",
     "output_type": "stream",
     "text": [
      "[[ 1.02541265  0.14457986 -0.16644927  0.27761987]\n",
      " [ 0.42070886 -0.14406326 -0.12995927 -1.18648191]]\n",
      "[[ 1.  1. -1.  1.]\n",
      " [ 1. -1. -1. -1.]]\n"
     ]
    }
   ],
   "source": [
    "a1 = np.random.randn(2, 4)\n",
    "print a1\n",
    "print binarize(a1)"
   ]
  },
  {
   "cell_type": "code",
   "execution_count": 62,
   "metadata": {
    "collapsed": true
   },
   "outputs": [],
   "source": [
    "def clip(m):\n",
    "    return np.clip(m, -1, 1)"
   ]
  },
  {
   "cell_type": "code",
   "execution_count": 80,
   "metadata": {},
   "outputs": [
    {
     "data": {
      "text/plain": [
       "array([[ 1.        ,  0.14457986, -0.16644927,  0.27761987],\n",
       "       [ 0.42070886, -0.14406326, -0.12995927, -1.        ]])"
      ]
     },
     "execution_count": 80,
     "metadata": {},
     "output_type": "execute_result"
    }
   ],
   "source": [
    "clip(a1)"
   ]
  },
  {
   "cell_type": "code",
   "execution_count": 98,
   "metadata": {},
   "outputs": [
    {
     "name": "stdout",
     "output_type": "stream",
     "text": [
      "\n",
      "\tWITH BINARIZATION\n",
      "\n",
      "Index, TestLoss, TestAcc\n",
      "\n",
      "200 0.8735591990334786 0.7882\n",
      "Updating alpha. Changes at 1\n",
      "400 1.3220157012354152 0.7674\n",
      "Updating alpha. Changes at 2\n",
      "600 0.9633363888298269 0.8377\n",
      "800 0.903804915904683 0.8288\n",
      "1000 1.2096846063292197 0.8118\n",
      "Updating alpha. Changes at 3\n",
      "1200 1.5352151377310235 0.799\n",
      "Updating alpha. Changes at 4\n",
      "1400 0.861254799516688 0.8705\n",
      "1600 0.9397290421057929 0.8519\n",
      "Updating alpha. Changes at 5\n",
      "Exiting.\n",
      "Last test loss: 0.9397290421057929\n",
      "Last test accuracy: 0.8519\n"
     ]
    }
   ],
   "source": [
    "## Binarization algorithm.\n",
    "np.random.seed(1234)\n",
    "w = np.random.rand(nfeats, nclasses)\n",
    "b = np.ones((1, nclasses))\n",
    "alpha = 0.5\n",
    "changes = 0\n",
    "\n",
    "print \"\\n\\tWITH BINARIZATION\\n\"\n",
    "print \"Index, TestLoss, TestAcc\\n\"\n",
    "prev_loss = 0\n",
    "for ix in range(10000):\n",
    "    x, t = mnist.train.next_batch(batch_size=batch_size)\n",
    "    w_bin = binarize(w) ## Binarize before forward pass.\n",
    "    \n",
    "    logits = logistic_model(x, w_bin, b) ## Forward pass with binarized weights.\n",
    "    loss = ce_loss(logits, t)\n",
    "    \n",
    "    grads = gradients(logits, t, x) ## Gradients agains the binarized weights.\n",
    "    w, b = update_params((w, b), grads, alpha)\n",
    "    w = clip(w) ## Clip.\n",
    "    \n",
    "    if (ix+1)%200 == 0:\n",
    "        test_logits = logistic_model(mnist.test.images, w_bin, b) ## Use binarized weights.\n",
    "        test_acc = np.mean(np.argmax(test_logits, axis=1) == np.argmax(mnist.test.labels, axis=1))\n",
    "        test_loss = ce_loss(test_logits, mnist.test.labels)\n",
    "        \n",
    "        print ix+1, test_loss, test_acc\n",
    "        \n",
    "        if prev_loss<test_loss:\n",
    "            alpha = alpha * 0.9 ## Decay.\n",
    "            changes += 1\n",
    "            print \"Updating alpha. Changes at\", changes\n",
    "        \n",
    "        prev_loss = test_loss\n",
    "            \n",
    "    if changes>4:\n",
    "        print \"Exiting.\"\n",
    "        print \"Last test loss:\", test_loss\n",
    "        print \"Last test accuracy:\", test_acc\n",
    "        break"
   ]
  },
  {
   "cell_type": "code",
   "execution_count": 102,
   "metadata": {},
   "outputs": [
    {
     "data": {
      "text/plain": [
       "array([[0.19151945, 0.62210877, 0.43772774, ..., 0.80187218, 0.95813935,\n",
       "        0.87593263],\n",
       "       [0.35781727, 0.50099513, 0.68346294, ..., 0.01376845, 0.77282662,\n",
       "        0.88264119],\n",
       "       [0.36488598, 0.61539618, 0.07538124, ..., 0.78873014, 0.31683612,\n",
       "        0.56809865],\n",
       "       ...,\n",
       "       [0.0905448 , 0.46266612, 0.58650049, ..., 0.2905413 , 0.07627532,\n",
       "        0.69052108],\n",
       "       [0.8000275 , 0.41220923, 0.07180416, ..., 0.77861286, 0.57415148,\n",
       "        0.8240048 ],\n",
       "       [0.07931056, 0.97242024, 0.75399442, ..., 0.02676522, 0.50262157,\n",
       "        0.94026889]])"
      ]
     },
     "execution_count": 102,
     "metadata": {},
     "output_type": "execute_result"
    }
   ],
   "source": [
    "w"
   ]
  },
  {
   "cell_type": "code",
   "execution_count": null,
   "metadata": {
    "collapsed": true
   },
   "outputs": [],
   "source": []
  }
 ],
 "metadata": {
  "kernelspec": {
   "display_name": "Python 2",
   "language": "python",
   "name": "python2"
  },
  "language_info": {
   "codemirror_mode": {
    "name": "ipython",
    "version": 2
   },
   "file_extension": ".py",
   "mimetype": "text/x-python",
   "name": "python",
   "nbconvert_exporter": "python",
   "pygments_lexer": "ipython2",
   "version": "2.7.14"
  }
 },
 "nbformat": 4,
 "nbformat_minor": 2
}
